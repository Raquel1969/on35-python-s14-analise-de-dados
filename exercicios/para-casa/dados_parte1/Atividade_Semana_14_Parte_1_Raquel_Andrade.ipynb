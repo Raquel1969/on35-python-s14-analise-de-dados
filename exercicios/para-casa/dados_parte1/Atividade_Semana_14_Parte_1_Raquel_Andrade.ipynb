{
  "nbformat": 4,
  "nbformat_minor": 0,
  "metadata": {
    "colab": {
      "provenance": []
    },
    "kernelspec": {
      "name": "python3",
      "display_name": "Python 3"
    },
    "language_info": {
      "name": "python"
    }
  },
  "cells": [
    {
      "cell_type": "code",
      "execution_count": 26,
      "metadata": {
        "id": "CVGF02ufm7xv"
      },
      "outputs": [],
      "source": [
        "import pandas as pd\n",
        "import matplotlib.pyplot as plt\n",
        "import seaborn as sns"
      ]
    },
    {
      "cell_type": "code",
      "source": [
        "df_netflix = pd.read_csv('https://github.com/Raquel1969/on35-python-s14-analise-de-dados/blob/main/exercicios/para-casa/dados_parte1/netflix.csv?raw=true')\n",
        "df_netflix"
      ],
      "metadata": {
        "id": "tMMDb4HzoDXY",
        "colab": {
          "base_uri": "https://localhost:8080/",
          "height": 424
        },
        "outputId": "be40cc24-d04c-468a-f202-ec8254dcad08"
      },
      "execution_count": 8,
      "outputs": [
        {
          "output_type": "execute_result",
          "data": {
            "text/plain": [
              "      User ID Subscription Type  Monthly Revenue Join Date Last Payment Date  \\\n",
              "0           1             Basic               10  15-01-22          10-06-23   \n",
              "1           2           Premium               15  05-09-21          22-06-23   \n",
              "2           3          Standard               12  28-02-23          27-06-23   \n",
              "3           4          Standard               12  10-07-22          26-06-23   \n",
              "4           5             Basic               10  01-05-23          28-06-23   \n",
              "...       ...               ...              ...       ...               ...   \n",
              "2495     2496           Premium               14  25-07-22          12-07-23   \n",
              "2496     2497             Basic               15  04-08-22          14-07-23   \n",
              "2497     2498          Standard               12  09-08-22          15-07-23   \n",
              "2498     2499          Standard               13  12-08-22          12-07-23   \n",
              "2499     2500             Basic               15  13-08-22          12-07-23   \n",
              "\n",
              "             Country  Age  Gender      Device Plan Duration  \n",
              "0      United States   28    Male  Smartphone       1 Month  \n",
              "1             Canada   35  Female      Tablet       1 Month  \n",
              "2     United Kingdom   42    Male    Smart TV       1 Month  \n",
              "3          Australia   51  Female      Laptop       1 Month  \n",
              "4            Germany   33    Male  Smartphone       1 Month  \n",
              "...              ...  ...     ...         ...           ...  \n",
              "2495           Spain   28  Female    Smart TV       1 Month  \n",
              "2496           Spain   33  Female    Smart TV       1 Month  \n",
              "2497   United States   38    Male      Laptop       1 Month  \n",
              "2498          Canada   48  Female      Tablet       1 Month  \n",
              "2499   United States   35  Female    Smart TV       1 Month  \n",
              "\n",
              "[2500 rows x 10 columns]"
            ],
            "text/html": [
              "\n",
              "  <div id=\"df-3dafac4d-d9d9-4aaa-9cd5-4a013290986e\" class=\"colab-df-container\">\n",
              "    <div>\n",
              "<style scoped>\n",
              "    .dataframe tbody tr th:only-of-type {\n",
              "        vertical-align: middle;\n",
              "    }\n",
              "\n",
              "    .dataframe tbody tr th {\n",
              "        vertical-align: top;\n",
              "    }\n",
              "\n",
              "    .dataframe thead th {\n",
              "        text-align: right;\n",
              "    }\n",
              "</style>\n",
              "<table border=\"1\" class=\"dataframe\">\n",
              "  <thead>\n",
              "    <tr style=\"text-align: right;\">\n",
              "      <th></th>\n",
              "      <th>User ID</th>\n",
              "      <th>Subscription Type</th>\n",
              "      <th>Monthly Revenue</th>\n",
              "      <th>Join Date</th>\n",
              "      <th>Last Payment Date</th>\n",
              "      <th>Country</th>\n",
              "      <th>Age</th>\n",
              "      <th>Gender</th>\n",
              "      <th>Device</th>\n",
              "      <th>Plan Duration</th>\n",
              "    </tr>\n",
              "  </thead>\n",
              "  <tbody>\n",
              "    <tr>\n",
              "      <th>0</th>\n",
              "      <td>1</td>\n",
              "      <td>Basic</td>\n",
              "      <td>10</td>\n",
              "      <td>15-01-22</td>\n",
              "      <td>10-06-23</td>\n",
              "      <td>United States</td>\n",
              "      <td>28</td>\n",
              "      <td>Male</td>\n",
              "      <td>Smartphone</td>\n",
              "      <td>1 Month</td>\n",
              "    </tr>\n",
              "    <tr>\n",
              "      <th>1</th>\n",
              "      <td>2</td>\n",
              "      <td>Premium</td>\n",
              "      <td>15</td>\n",
              "      <td>05-09-21</td>\n",
              "      <td>22-06-23</td>\n",
              "      <td>Canada</td>\n",
              "      <td>35</td>\n",
              "      <td>Female</td>\n",
              "      <td>Tablet</td>\n",
              "      <td>1 Month</td>\n",
              "    </tr>\n",
              "    <tr>\n",
              "      <th>2</th>\n",
              "      <td>3</td>\n",
              "      <td>Standard</td>\n",
              "      <td>12</td>\n",
              "      <td>28-02-23</td>\n",
              "      <td>27-06-23</td>\n",
              "      <td>United Kingdom</td>\n",
              "      <td>42</td>\n",
              "      <td>Male</td>\n",
              "      <td>Smart TV</td>\n",
              "      <td>1 Month</td>\n",
              "    </tr>\n",
              "    <tr>\n",
              "      <th>3</th>\n",
              "      <td>4</td>\n",
              "      <td>Standard</td>\n",
              "      <td>12</td>\n",
              "      <td>10-07-22</td>\n",
              "      <td>26-06-23</td>\n",
              "      <td>Australia</td>\n",
              "      <td>51</td>\n",
              "      <td>Female</td>\n",
              "      <td>Laptop</td>\n",
              "      <td>1 Month</td>\n",
              "    </tr>\n",
              "    <tr>\n",
              "      <th>4</th>\n",
              "      <td>5</td>\n",
              "      <td>Basic</td>\n",
              "      <td>10</td>\n",
              "      <td>01-05-23</td>\n",
              "      <td>28-06-23</td>\n",
              "      <td>Germany</td>\n",
              "      <td>33</td>\n",
              "      <td>Male</td>\n",
              "      <td>Smartphone</td>\n",
              "      <td>1 Month</td>\n",
              "    </tr>\n",
              "    <tr>\n",
              "      <th>...</th>\n",
              "      <td>...</td>\n",
              "      <td>...</td>\n",
              "      <td>...</td>\n",
              "      <td>...</td>\n",
              "      <td>...</td>\n",
              "      <td>...</td>\n",
              "      <td>...</td>\n",
              "      <td>...</td>\n",
              "      <td>...</td>\n",
              "      <td>...</td>\n",
              "    </tr>\n",
              "    <tr>\n",
              "      <th>2495</th>\n",
              "      <td>2496</td>\n",
              "      <td>Premium</td>\n",
              "      <td>14</td>\n",
              "      <td>25-07-22</td>\n",
              "      <td>12-07-23</td>\n",
              "      <td>Spain</td>\n",
              "      <td>28</td>\n",
              "      <td>Female</td>\n",
              "      <td>Smart TV</td>\n",
              "      <td>1 Month</td>\n",
              "    </tr>\n",
              "    <tr>\n",
              "      <th>2496</th>\n",
              "      <td>2497</td>\n",
              "      <td>Basic</td>\n",
              "      <td>15</td>\n",
              "      <td>04-08-22</td>\n",
              "      <td>14-07-23</td>\n",
              "      <td>Spain</td>\n",
              "      <td>33</td>\n",
              "      <td>Female</td>\n",
              "      <td>Smart TV</td>\n",
              "      <td>1 Month</td>\n",
              "    </tr>\n",
              "    <tr>\n",
              "      <th>2497</th>\n",
              "      <td>2498</td>\n",
              "      <td>Standard</td>\n",
              "      <td>12</td>\n",
              "      <td>09-08-22</td>\n",
              "      <td>15-07-23</td>\n",
              "      <td>United States</td>\n",
              "      <td>38</td>\n",
              "      <td>Male</td>\n",
              "      <td>Laptop</td>\n",
              "      <td>1 Month</td>\n",
              "    </tr>\n",
              "    <tr>\n",
              "      <th>2498</th>\n",
              "      <td>2499</td>\n",
              "      <td>Standard</td>\n",
              "      <td>13</td>\n",
              "      <td>12-08-22</td>\n",
              "      <td>12-07-23</td>\n",
              "      <td>Canada</td>\n",
              "      <td>48</td>\n",
              "      <td>Female</td>\n",
              "      <td>Tablet</td>\n",
              "      <td>1 Month</td>\n",
              "    </tr>\n",
              "    <tr>\n",
              "      <th>2499</th>\n",
              "      <td>2500</td>\n",
              "      <td>Basic</td>\n",
              "      <td>15</td>\n",
              "      <td>13-08-22</td>\n",
              "      <td>12-07-23</td>\n",
              "      <td>United States</td>\n",
              "      <td>35</td>\n",
              "      <td>Female</td>\n",
              "      <td>Smart TV</td>\n",
              "      <td>1 Month</td>\n",
              "    </tr>\n",
              "  </tbody>\n",
              "</table>\n",
              "<p>2500 rows × 10 columns</p>\n",
              "</div>\n",
              "    <div class=\"colab-df-buttons\">\n",
              "\n",
              "  <div class=\"colab-df-container\">\n",
              "    <button class=\"colab-df-convert\" onclick=\"convertToInteractive('df-3dafac4d-d9d9-4aaa-9cd5-4a013290986e')\"\n",
              "            title=\"Convert this dataframe to an interactive table.\"\n",
              "            style=\"display:none;\">\n",
              "\n",
              "  <svg xmlns=\"http://www.w3.org/2000/svg\" height=\"24px\" viewBox=\"0 -960 960 960\">\n",
              "    <path d=\"M120-120v-720h720v720H120Zm60-500h600v-160H180v160Zm220 220h160v-160H400v160Zm0 220h160v-160H400v160ZM180-400h160v-160H180v160Zm440 0h160v-160H620v160ZM180-180h160v-160H180v160Zm440 0h160v-160H620v160Z\"/>\n",
              "  </svg>\n",
              "    </button>\n",
              "\n",
              "  <style>\n",
              "    .colab-df-container {\n",
              "      display:flex;\n",
              "      gap: 12px;\n",
              "    }\n",
              "\n",
              "    .colab-df-convert {\n",
              "      background-color: #E8F0FE;\n",
              "      border: none;\n",
              "      border-radius: 50%;\n",
              "      cursor: pointer;\n",
              "      display: none;\n",
              "      fill: #1967D2;\n",
              "      height: 32px;\n",
              "      padding: 0 0 0 0;\n",
              "      width: 32px;\n",
              "    }\n",
              "\n",
              "    .colab-df-convert:hover {\n",
              "      background-color: #E2EBFA;\n",
              "      box-shadow: 0px 1px 2px rgba(60, 64, 67, 0.3), 0px 1px 3px 1px rgba(60, 64, 67, 0.15);\n",
              "      fill: #174EA6;\n",
              "    }\n",
              "\n",
              "    .colab-df-buttons div {\n",
              "      margin-bottom: 4px;\n",
              "    }\n",
              "\n",
              "    [theme=dark] .colab-df-convert {\n",
              "      background-color: #3B4455;\n",
              "      fill: #D2E3FC;\n",
              "    }\n",
              "\n",
              "    [theme=dark] .colab-df-convert:hover {\n",
              "      background-color: #434B5C;\n",
              "      box-shadow: 0px 1px 3px 1px rgba(0, 0, 0, 0.15);\n",
              "      filter: drop-shadow(0px 1px 2px rgba(0, 0, 0, 0.3));\n",
              "      fill: #FFFFFF;\n",
              "    }\n",
              "  </style>\n",
              "\n",
              "    <script>\n",
              "      const buttonEl =\n",
              "        document.querySelector('#df-3dafac4d-d9d9-4aaa-9cd5-4a013290986e button.colab-df-convert');\n",
              "      buttonEl.style.display =\n",
              "        google.colab.kernel.accessAllowed ? 'block' : 'none';\n",
              "\n",
              "      async function convertToInteractive(key) {\n",
              "        const element = document.querySelector('#df-3dafac4d-d9d9-4aaa-9cd5-4a013290986e');\n",
              "        const dataTable =\n",
              "          await google.colab.kernel.invokeFunction('convertToInteractive',\n",
              "                                                    [key], {});\n",
              "        if (!dataTable) return;\n",
              "\n",
              "        const docLinkHtml = 'Like what you see? Visit the ' +\n",
              "          '<a target=\"_blank\" href=https://colab.research.google.com/notebooks/data_table.ipynb>data table notebook</a>'\n",
              "          + ' to learn more about interactive tables.';\n",
              "        element.innerHTML = '';\n",
              "        dataTable['output_type'] = 'display_data';\n",
              "        await google.colab.output.renderOutput(dataTable, element);\n",
              "        const docLink = document.createElement('div');\n",
              "        docLink.innerHTML = docLinkHtml;\n",
              "        element.appendChild(docLink);\n",
              "      }\n",
              "    </script>\n",
              "  </div>\n",
              "\n",
              "\n",
              "<div id=\"df-a08871eb-d097-4dd6-b811-9075b1466b86\">\n",
              "  <button class=\"colab-df-quickchart\" onclick=\"quickchart('df-a08871eb-d097-4dd6-b811-9075b1466b86')\"\n",
              "            title=\"Suggest charts\"\n",
              "            style=\"display:none;\">\n",
              "\n",
              "<svg xmlns=\"http://www.w3.org/2000/svg\" height=\"24px\"viewBox=\"0 0 24 24\"\n",
              "     width=\"24px\">\n",
              "    <g>\n",
              "        <path d=\"M19 3H5c-1.1 0-2 .9-2 2v14c0 1.1.9 2 2 2h14c1.1 0 2-.9 2-2V5c0-1.1-.9-2-2-2zM9 17H7v-7h2v7zm4 0h-2V7h2v10zm4 0h-2v-4h2v4z\"/>\n",
              "    </g>\n",
              "</svg>\n",
              "  </button>\n",
              "\n",
              "<style>\n",
              "  .colab-df-quickchart {\n",
              "      --bg-color: #E8F0FE;\n",
              "      --fill-color: #1967D2;\n",
              "      --hover-bg-color: #E2EBFA;\n",
              "      --hover-fill-color: #174EA6;\n",
              "      --disabled-fill-color: #AAA;\n",
              "      --disabled-bg-color: #DDD;\n",
              "  }\n",
              "\n",
              "  [theme=dark] .colab-df-quickchart {\n",
              "      --bg-color: #3B4455;\n",
              "      --fill-color: #D2E3FC;\n",
              "      --hover-bg-color: #434B5C;\n",
              "      --hover-fill-color: #FFFFFF;\n",
              "      --disabled-bg-color: #3B4455;\n",
              "      --disabled-fill-color: #666;\n",
              "  }\n",
              "\n",
              "  .colab-df-quickchart {\n",
              "    background-color: var(--bg-color);\n",
              "    border: none;\n",
              "    border-radius: 50%;\n",
              "    cursor: pointer;\n",
              "    display: none;\n",
              "    fill: var(--fill-color);\n",
              "    height: 32px;\n",
              "    padding: 0;\n",
              "    width: 32px;\n",
              "  }\n",
              "\n",
              "  .colab-df-quickchart:hover {\n",
              "    background-color: var(--hover-bg-color);\n",
              "    box-shadow: 0 1px 2px rgba(60, 64, 67, 0.3), 0 1px 3px 1px rgba(60, 64, 67, 0.15);\n",
              "    fill: var(--button-hover-fill-color);\n",
              "  }\n",
              "\n",
              "  .colab-df-quickchart-complete:disabled,\n",
              "  .colab-df-quickchart-complete:disabled:hover {\n",
              "    background-color: var(--disabled-bg-color);\n",
              "    fill: var(--disabled-fill-color);\n",
              "    box-shadow: none;\n",
              "  }\n",
              "\n",
              "  .colab-df-spinner {\n",
              "    border: 2px solid var(--fill-color);\n",
              "    border-color: transparent;\n",
              "    border-bottom-color: var(--fill-color);\n",
              "    animation:\n",
              "      spin 1s steps(1) infinite;\n",
              "  }\n",
              "\n",
              "  @keyframes spin {\n",
              "    0% {\n",
              "      border-color: transparent;\n",
              "      border-bottom-color: var(--fill-color);\n",
              "      border-left-color: var(--fill-color);\n",
              "    }\n",
              "    20% {\n",
              "      border-color: transparent;\n",
              "      border-left-color: var(--fill-color);\n",
              "      border-top-color: var(--fill-color);\n",
              "    }\n",
              "    30% {\n",
              "      border-color: transparent;\n",
              "      border-left-color: var(--fill-color);\n",
              "      border-top-color: var(--fill-color);\n",
              "      border-right-color: var(--fill-color);\n",
              "    }\n",
              "    40% {\n",
              "      border-color: transparent;\n",
              "      border-right-color: var(--fill-color);\n",
              "      border-top-color: var(--fill-color);\n",
              "    }\n",
              "    60% {\n",
              "      border-color: transparent;\n",
              "      border-right-color: var(--fill-color);\n",
              "    }\n",
              "    80% {\n",
              "      border-color: transparent;\n",
              "      border-right-color: var(--fill-color);\n",
              "      border-bottom-color: var(--fill-color);\n",
              "    }\n",
              "    90% {\n",
              "      border-color: transparent;\n",
              "      border-bottom-color: var(--fill-color);\n",
              "    }\n",
              "  }\n",
              "</style>\n",
              "\n",
              "  <script>\n",
              "    async function quickchart(key) {\n",
              "      const quickchartButtonEl =\n",
              "        document.querySelector('#' + key + ' button');\n",
              "      quickchartButtonEl.disabled = true;  // To prevent multiple clicks.\n",
              "      quickchartButtonEl.classList.add('colab-df-spinner');\n",
              "      try {\n",
              "        const charts = await google.colab.kernel.invokeFunction(\n",
              "            'suggestCharts', [key], {});\n",
              "      } catch (error) {\n",
              "        console.error('Error during call to suggestCharts:', error);\n",
              "      }\n",
              "      quickchartButtonEl.classList.remove('colab-df-spinner');\n",
              "      quickchartButtonEl.classList.add('colab-df-quickchart-complete');\n",
              "    }\n",
              "    (() => {\n",
              "      let quickchartButtonEl =\n",
              "        document.querySelector('#df-a08871eb-d097-4dd6-b811-9075b1466b86 button');\n",
              "      quickchartButtonEl.style.display =\n",
              "        google.colab.kernel.accessAllowed ? 'block' : 'none';\n",
              "    })();\n",
              "  </script>\n",
              "</div>\n",
              "\n",
              "  <div id=\"id_6a38f6fc-3646-482d-964c-44dfa4d9c315\">\n",
              "    <style>\n",
              "      .colab-df-generate {\n",
              "        background-color: #E8F0FE;\n",
              "        border: none;\n",
              "        border-radius: 50%;\n",
              "        cursor: pointer;\n",
              "        display: none;\n",
              "        fill: #1967D2;\n",
              "        height: 32px;\n",
              "        padding: 0 0 0 0;\n",
              "        width: 32px;\n",
              "      }\n",
              "\n",
              "      .colab-df-generate:hover {\n",
              "        background-color: #E2EBFA;\n",
              "        box-shadow: 0px 1px 2px rgba(60, 64, 67, 0.3), 0px 1px 3px 1px rgba(60, 64, 67, 0.15);\n",
              "        fill: #174EA6;\n",
              "      }\n",
              "\n",
              "      [theme=dark] .colab-df-generate {\n",
              "        background-color: #3B4455;\n",
              "        fill: #D2E3FC;\n",
              "      }\n",
              "\n",
              "      [theme=dark] .colab-df-generate:hover {\n",
              "        background-color: #434B5C;\n",
              "        box-shadow: 0px 1px 3px 1px rgba(0, 0, 0, 0.15);\n",
              "        filter: drop-shadow(0px 1px 2px rgba(0, 0, 0, 0.3));\n",
              "        fill: #FFFFFF;\n",
              "      }\n",
              "    </style>\n",
              "    <button class=\"colab-df-generate\" onclick=\"generateWithVariable('df_netflix')\"\n",
              "            title=\"Generate code using this dataframe.\"\n",
              "            style=\"display:none;\">\n",
              "\n",
              "  <svg xmlns=\"http://www.w3.org/2000/svg\" height=\"24px\"viewBox=\"0 0 24 24\"\n",
              "       width=\"24px\">\n",
              "    <path d=\"M7,19H8.4L18.45,9,17,7.55,7,17.6ZM5,21V16.75L18.45,3.32a2,2,0,0,1,2.83,0l1.4,1.43a1.91,1.91,0,0,1,.58,1.4,1.91,1.91,0,0,1-.58,1.4L9.25,21ZM18.45,9,17,7.55Zm-12,3A5.31,5.31,0,0,0,4.9,8.1,5.31,5.31,0,0,0,1,6.5,5.31,5.31,0,0,0,4.9,4.9,5.31,5.31,0,0,0,6.5,1,5.31,5.31,0,0,0,8.1,4.9,5.31,5.31,0,0,0,12,6.5,5.46,5.46,0,0,0,6.5,12Z\"/>\n",
              "  </svg>\n",
              "    </button>\n",
              "    <script>\n",
              "      (() => {\n",
              "      const buttonEl =\n",
              "        document.querySelector('#id_6a38f6fc-3646-482d-964c-44dfa4d9c315 button.colab-df-generate');\n",
              "      buttonEl.style.display =\n",
              "        google.colab.kernel.accessAllowed ? 'block' : 'none';\n",
              "\n",
              "      buttonEl.onclick = () => {\n",
              "        google.colab.notebook.generateWithVariable('df_netflix');\n",
              "      }\n",
              "      })();\n",
              "    </script>\n",
              "  </div>\n",
              "\n",
              "    </div>\n",
              "  </div>\n"
            ],
            "application/vnd.google.colaboratory.intrinsic+json": {
              "type": "dataframe",
              "variable_name": "df_netflix",
              "summary": "{\n  \"name\": \"df_netflix\",\n  \"rows\": 2500,\n  \"fields\": [\n    {\n      \"column\": \"User ID\",\n      \"properties\": {\n        \"dtype\": \"number\",\n        \"std\": 721,\n        \"min\": 1,\n        \"max\": 2500,\n        \"num_unique_values\": 2500,\n        \"samples\": [\n          1448,\n          1115,\n          1065\n        ],\n        \"semantic_type\": \"\",\n        \"description\": \"\"\n      }\n    },\n    {\n      \"column\": \"Subscription Type\",\n      \"properties\": {\n        \"dtype\": \"category\",\n        \"num_unique_values\": 3,\n        \"samples\": [\n          \"Basic\",\n          \"Premium\",\n          \"Standard\"\n        ],\n        \"semantic_type\": \"\",\n        \"description\": \"\"\n      }\n    },\n    {\n      \"column\": \"Monthly Revenue\",\n      \"properties\": {\n        \"dtype\": \"number\",\n        \"std\": 1,\n        \"min\": 10,\n        \"max\": 15,\n        \"num_unique_values\": 6,\n        \"samples\": [\n          10,\n          15,\n          14\n        ],\n        \"semantic_type\": \"\",\n        \"description\": \"\"\n      }\n    },\n    {\n      \"column\": \"Join Date\",\n      \"properties\": {\n        \"dtype\": \"object\",\n        \"num_unique_values\": 300,\n        \"samples\": [\n          \"02-08-22\",\n          \"18-08-22\",\n          \"16-07-22\"\n        ],\n        \"semantic_type\": \"\",\n        \"description\": \"\"\n      }\n    },\n    {\n      \"column\": \"Last Payment Date\",\n      \"properties\": {\n        \"dtype\": \"object\",\n        \"num_unique_values\": 26,\n        \"samples\": [\n          \"20-06-23\",\n          \"06-07-23\",\n          \"10-06-23\"\n        ],\n        \"semantic_type\": \"\",\n        \"description\": \"\"\n      }\n    },\n    {\n      \"column\": \"Country\",\n      \"properties\": {\n        \"dtype\": \"category\",\n        \"num_unique_values\": 10,\n        \"samples\": [\n          \"Spain\",\n          \"Canada\",\n          \"France\"\n        ],\n        \"semantic_type\": \"\",\n        \"description\": \"\"\n      }\n    },\n    {\n      \"column\": \"Age\",\n      \"properties\": {\n        \"dtype\": \"number\",\n        \"std\": 7,\n        \"min\": 26,\n        \"max\": 51,\n        \"num_unique_values\": 26,\n        \"samples\": [\n          37,\n          30,\n          28\n        ],\n        \"semantic_type\": \"\",\n        \"description\": \"\"\n      }\n    },\n    {\n      \"column\": \"Gender\",\n      \"properties\": {\n        \"dtype\": \"category\",\n        \"num_unique_values\": 2,\n        \"samples\": [\n          \"Female\",\n          \"Male\"\n        ],\n        \"semantic_type\": \"\",\n        \"description\": \"\"\n      }\n    },\n    {\n      \"column\": \"Device\",\n      \"properties\": {\n        \"dtype\": \"category\",\n        \"num_unique_values\": 4,\n        \"samples\": [\n          \"Tablet\",\n          \"Laptop\"\n        ],\n        \"semantic_type\": \"\",\n        \"description\": \"\"\n      }\n    },\n    {\n      \"column\": \"Plan Duration\",\n      \"properties\": {\n        \"dtype\": \"category\",\n        \"num_unique_values\": 1,\n        \"samples\": [\n          \"1 Month\"\n        ],\n        \"semantic_type\": \"\",\n        \"description\": \"\"\n      }\n    }\n  ]\n}"
            }
          },
          "metadata": {},
          "execution_count": 8
        }
      ]
    },
    {
      "cell_type": "code",
      "source": [
        "df_netflix.info()"
      ],
      "metadata": {
        "colab": {
          "base_uri": "https://localhost:8080/"
        },
        "id": "8eidjdYpoDFw",
        "outputId": "f33bcc03-66d8-4ec8-cc77-5a95365d863b"
      },
      "execution_count": 9,
      "outputs": [
        {
          "output_type": "stream",
          "name": "stdout",
          "text": [
            "<class 'pandas.core.frame.DataFrame'>\n",
            "RangeIndex: 2500 entries, 0 to 2499\n",
            "Data columns (total 10 columns):\n",
            " #   Column             Non-Null Count  Dtype \n",
            "---  ------             --------------  ----- \n",
            " 0   User ID            2500 non-null   int64 \n",
            " 1   Subscription Type  2500 non-null   object\n",
            " 2   Monthly Revenue    2500 non-null   int64 \n",
            " 3   Join Date          2500 non-null   object\n",
            " 4   Last Payment Date  2500 non-null   object\n",
            " 5   Country            2500 non-null   object\n",
            " 6   Age                2500 non-null   int64 \n",
            " 7   Gender             2500 non-null   object\n",
            " 8   Device             2500 non-null   object\n",
            " 9   Plan Duration      2500 non-null   object\n",
            "dtypes: int64(3), object(7)\n",
            "memory usage: 195.4+ KB\n"
          ]
        }
      ]
    },
    {
      "cell_type": "code",
      "source": [
        "df_netflix.isnull().sum()"
      ],
      "metadata": {
        "colab": {
          "base_uri": "https://localhost:8080/",
          "height": 398
        },
        "id": "NILFiXwp_sFP",
        "outputId": "897950c7-e10e-41cb-e9b4-81197376848c"
      },
      "execution_count": 10,
      "outputs": [
        {
          "output_type": "execute_result",
          "data": {
            "text/plain": [
              "User ID              0\n",
              "Subscription Type    0\n",
              "Monthly Revenue      0\n",
              "Join Date            0\n",
              "Last Payment Date    0\n",
              "Country              0\n",
              "Age                  0\n",
              "Gender               0\n",
              "Device               0\n",
              "Plan Duration        0\n",
              "dtype: int64"
            ],
            "text/html": [
              "<div>\n",
              "<style scoped>\n",
              "    .dataframe tbody tr th:only-of-type {\n",
              "        vertical-align: middle;\n",
              "    }\n",
              "\n",
              "    .dataframe tbody tr th {\n",
              "        vertical-align: top;\n",
              "    }\n",
              "\n",
              "    .dataframe thead th {\n",
              "        text-align: right;\n",
              "    }\n",
              "</style>\n",
              "<table border=\"1\" class=\"dataframe\">\n",
              "  <thead>\n",
              "    <tr style=\"text-align: right;\">\n",
              "      <th></th>\n",
              "      <th>0</th>\n",
              "    </tr>\n",
              "  </thead>\n",
              "  <tbody>\n",
              "    <tr>\n",
              "      <th>User ID</th>\n",
              "      <td>0</td>\n",
              "    </tr>\n",
              "    <tr>\n",
              "      <th>Subscription Type</th>\n",
              "      <td>0</td>\n",
              "    </tr>\n",
              "    <tr>\n",
              "      <th>Monthly Revenue</th>\n",
              "      <td>0</td>\n",
              "    </tr>\n",
              "    <tr>\n",
              "      <th>Join Date</th>\n",
              "      <td>0</td>\n",
              "    </tr>\n",
              "    <tr>\n",
              "      <th>Last Payment Date</th>\n",
              "      <td>0</td>\n",
              "    </tr>\n",
              "    <tr>\n",
              "      <th>Country</th>\n",
              "      <td>0</td>\n",
              "    </tr>\n",
              "    <tr>\n",
              "      <th>Age</th>\n",
              "      <td>0</td>\n",
              "    </tr>\n",
              "    <tr>\n",
              "      <th>Gender</th>\n",
              "      <td>0</td>\n",
              "    </tr>\n",
              "    <tr>\n",
              "      <th>Device</th>\n",
              "      <td>0</td>\n",
              "    </tr>\n",
              "    <tr>\n",
              "      <th>Plan Duration</th>\n",
              "      <td>0</td>\n",
              "    </tr>\n",
              "  </tbody>\n",
              "</table>\n",
              "</div><br><label><b>dtype:</b> int64</label>"
            ]
          },
          "metadata": {},
          "execution_count": 10
        }
      ]
    },
    {
      "cell_type": "markdown",
      "source": [
        "##A quantidade de usuários utilizando tablet é 633"
      ],
      "metadata": {
        "id": "y7X7ILADBZ2W"
      }
    },
    {
      "cell_type": "code",
      "source": [
        "tablet_users_count = df_netflix[df_netflix['Device'] == 'Tablet'].shape[0]\n",
        "print(f\"Número de usuários que utilizam Tablet: {tablet_users_count}\")"
      ],
      "metadata": {
        "colab": {
          "base_uri": "https://localhost:8080/"
        },
        "id": "A0O7bkt4_vMt",
        "outputId": "52511dce-960a-4ff8-e7e6-028392ebec7e"
      },
      "execution_count": 12,
      "outputs": [
        {
          "output_type": "stream",
          "name": "stdout",
          "text": [
            "Número de usuários que utilizam Tablet: 633\n"
          ]
        }
      ]
    },
    {
      "cell_type": "code",
      "source": [
        "dispositivos = df_netflix['Device'].value_counts()"
      ],
      "metadata": {
        "id": "-zIVPZL9BQNN"
      },
      "execution_count": 16,
      "outputs": []
    },
    {
      "cell_type": "code",
      "source": [
        "total_usuarios = df_netflix.shape[0]"
      ],
      "metadata": {
        "id": "6bNId73xBlz4"
      },
      "execution_count": 20,
      "outputs": []
    },
    {
      "cell_type": "code",
      "source": [
        "dispositivo_mais_utilizado = dispositivos.idxmax()"
      ],
      "metadata": {
        "id": "uqkSGkTsBrDG"
      },
      "execution_count": 18,
      "outputs": []
    },
    {
      "cell_type": "code",
      "source": [
        "dispositivo_mais_utilizado_porcentagem = (dispositivos.max() / total_usuarios) * 100"
      ],
      "metadata": {
        "id": "MD0f8IhHB_im"
      },
      "execution_count": 24,
      "outputs": []
    },
    {
      "cell_type": "markdown",
      "source": [
        "##O dispositivo mais utilizado foi Laptop"
      ],
      "metadata": {
        "id": "XZFswFgfCtMn"
      }
    },
    {
      "cell_type": "code",
      "source": [
        "print(f\"O dispositivo mais utilizado é: {dispositivo_mais_utilizado} ({dispositivo_mais_utilizado_porcentagem:.2f}%)\")\n"
      ],
      "metadata": {
        "colab": {
          "base_uri": "https://localhost:8080/"
        },
        "id": "1m0J3rFNCOJc",
        "outputId": "be0f7e12-5d45-41a2-f9dd-ca375f0b5e53"
      },
      "execution_count": 25,
      "outputs": [
        {
          "output_type": "stream",
          "name": "stdout",
          "text": [
            "O dispositivo mais utilizado é: Laptop (25.44%)\n"
          ]
        }
      ]
    },
    {
      "cell_type": "markdown",
      "source": [
        "##Gráfico dispositivo mais utilizado\n"
      ],
      "metadata": {
        "id": "qwc1selVDIKi"
      }
    },
    {
      "cell_type": "code",
      "source": [
        "intervalos = [0, 18, 30, 40, 50, 60, 100]\n",
        "faixa_etaria = ['0-18', '19-30', '31-40', '41-50', '51-60', '60+']\n",
        "df_netflix['Age Group'] = pd.cut(df_netflix['Age'], bins=intervalos, labels=faixa_etaria, include_lowest=True)\n",
        "df_netflix['Age Group']"
      ],
      "metadata": {
        "colab": {
          "base_uri": "https://localhost:8080/",
          "height": 458
        },
        "id": "T9RebdubCWtt",
        "outputId": "811ab16c-bc60-4ba0-a4c6-359b634a7b6d"
      },
      "execution_count": 31,
      "outputs": [
        {
          "output_type": "execute_result",
          "data": {
            "text/plain": [
              "0       19-30\n",
              "1       31-40\n",
              "2       41-50\n",
              "3       51-60\n",
              "4       31-40\n",
              "        ...  \n",
              "2495    19-30\n",
              "2496    31-40\n",
              "2497    31-40\n",
              "2498    41-50\n",
              "2499    31-40\n",
              "Name: Age Group, Length: 2500, dtype: category\n",
              "Categories (6, object): ['0-18' < '19-30' < '31-40' < '41-50' < '51-60' < '60+']"
            ],
            "text/html": [
              "<div>\n",
              "<style scoped>\n",
              "    .dataframe tbody tr th:only-of-type {\n",
              "        vertical-align: middle;\n",
              "    }\n",
              "\n",
              "    .dataframe tbody tr th {\n",
              "        vertical-align: top;\n",
              "    }\n",
              "\n",
              "    .dataframe thead th {\n",
              "        text-align: right;\n",
              "    }\n",
              "</style>\n",
              "<table border=\"1\" class=\"dataframe\">\n",
              "  <thead>\n",
              "    <tr style=\"text-align: right;\">\n",
              "      <th></th>\n",
              "      <th>Age Group</th>\n",
              "    </tr>\n",
              "  </thead>\n",
              "  <tbody>\n",
              "    <tr>\n",
              "      <th>0</th>\n",
              "      <td>19-30</td>\n",
              "    </tr>\n",
              "    <tr>\n",
              "      <th>1</th>\n",
              "      <td>31-40</td>\n",
              "    </tr>\n",
              "    <tr>\n",
              "      <th>2</th>\n",
              "      <td>41-50</td>\n",
              "    </tr>\n",
              "    <tr>\n",
              "      <th>3</th>\n",
              "      <td>51-60</td>\n",
              "    </tr>\n",
              "    <tr>\n",
              "      <th>4</th>\n",
              "      <td>31-40</td>\n",
              "    </tr>\n",
              "    <tr>\n",
              "      <th>...</th>\n",
              "      <td>...</td>\n",
              "    </tr>\n",
              "    <tr>\n",
              "      <th>2495</th>\n",
              "      <td>19-30</td>\n",
              "    </tr>\n",
              "    <tr>\n",
              "      <th>2496</th>\n",
              "      <td>31-40</td>\n",
              "    </tr>\n",
              "    <tr>\n",
              "      <th>2497</th>\n",
              "      <td>31-40</td>\n",
              "    </tr>\n",
              "    <tr>\n",
              "      <th>2498</th>\n",
              "      <td>41-50</td>\n",
              "    </tr>\n",
              "    <tr>\n",
              "      <th>2499</th>\n",
              "      <td>31-40</td>\n",
              "    </tr>\n",
              "  </tbody>\n",
              "</table>\n",
              "<p>2500 rows × 1 columns</p>\n",
              "</div><br><label><b>dtype:</b> category</label>"
            ]
          },
          "metadata": {},
          "execution_count": 31
        }
      ]
    },
    {
      "cell_type": "markdown",
      "source": [
        "##Não houveram usuários 0-18 e nem 60+\n",
        "##Laptop, e tablet são os mais usados"
      ],
      "metadata": {
        "id": "P3-bIaxjJqpv"
      }
    },
    {
      "cell_type": "code",
      "source": [
        "dispositivos_por_idade = df_netflix.groupby('Age Group')['Device'].value_counts().unstack()\n",
        "\n",
        "fig, ax = plt.subplots(figsize=(10, 6))\n",
        "\n",
        "bar_width = 0.2\n",
        "\n",
        "index = range(len(dispositivos_por_idade))\n",
        "\n",
        "for i, dispositivo in enumerate(dispositivos_por_idade.columns):\n",
        "    plt.bar([pos + i * bar_width for pos in index], dispositivos_por_idade[dispositivo], bar_width, label=dispositivo)\n",
        "\n",
        "plt.title('Dispositivos Mais Utilizados por Faixa Etária na Netflix (Brasil)')\n",
        "plt.xlabel('Faixa Etária')\n",
        "plt.ylabel('Número de Usuários')\n",
        "plt.xticks([pos + bar_width * (len(dispositivos_por_idade.columns) - 1) / 2 for pos in index], dispositivos_por_idade.index)\n",
        "plt.legend()\n",
        "plt.tight_layout()\n",
        "plt.show()"
      ],
      "metadata": {
        "colab": {
          "base_uri": "https://localhost:8080/",
          "height": 655
        },
        "id": "GOlOzZLyG56x",
        "outputId": "e3943018-2d5b-41c3-fbdb-2aea6d8d5cdd"
      },
      "execution_count": 59,
      "outputs": [
        {
          "output_type": "stream",
          "name": "stderr",
          "text": [
            "<ipython-input-59-92b4f73885ae>:1: FutureWarning: The default of observed=False is deprecated and will be changed to True in a future version of pandas. Pass observed=False to retain current behavior or observed=True to adopt the future default and silence this warning.\n",
            "  dispositivos_por_idade = df_netflix.groupby('Age Group')['Device'].value_counts().unstack()\n"
          ]
        },
        {
          "output_type": "display_data",
          "data": {
            "text/plain": [
              "<Figure size 1000x600 with 1 Axes>"
            ],
            "image/png": "[encoded data removed]"
          },
          "metadata": {}
        }
      ]
    },
    {
      "cell_type": "code",
      "source": [
        "print(df_netflix.columns)"
      ],
      "metadata": {
        "colab": {
          "base_uri": "https://localhost:8080/"
        },
        "id": "ReSd2a86Licj",
        "outputId": "8e9120bd-120e-440a-d452-20fad7dfe825"
      },
      "execution_count": 56,
      "outputs": [
        {
          "output_type": "stream",
          "name": "stdout",
          "text": [
            "Index(['User ID', 'Subscription Type', 'Monthly Revenue', 'Join Date',\n",
            "       'Last Payment Date', 'Country', 'Age', 'Gender', 'Device',\n",
            "       'Plan Duration', 'Age_Group', 'Age Group'],\n",
            "      dtype='object')\n"
          ]
        }
      ]
    },
    {
      "cell_type": "code",
      "source": [
        "dispositivos = df_netflix['Device'].value_counts()\n",
        "\n",
        "dispositivos_labels = dispositivos.index\n",
        "dispositivos_values = dispositivos.values\n",
        "\n",
        "plt.figure(figsize=(10, 6))\n",
        "plt.bar(dispositivos_labels, dispositivos_values)\n",
        "plt.title('Dispositivos Mais Utilizados na Netflix (Brasil)', fontsize=16, fontweight='bold')\n",
        "plt.xlabel('Dispositivos')\n",
        "plt.ylabel('Número de Usuários')\n",
        "plt.xticks(rotation=45, ha='right')\n",
        "plt.tight_layout()\n",
        "plt.show()"
      ],
      "metadata": {
        "colab": {
          "base_uri": "https://localhost:8080/",
          "height": 601
        },
        "id": "upCpFYcjKv6V",
        "outputId": "777415f1-0d2e-4cdc-fb0e-990cc719c3c7"
      },
      "execution_count": 60,
      "outputs": [
        {
          "output_type": "display_data",
          "data": {
            "text/plain": [
              "<Figure size 1000x600 with 1 Axes>"
            ],
            "image/png": "[encoded data removed]"
          },
          "metadata": {}
        }
      ]
    }
  ]
}